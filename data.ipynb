{
 "cells": [
  {
   "cell_type": "code",
   "execution_count": 6,
   "metadata": {},
   "outputs": [],
   "source": [
    "import pandas as pd\n",
    "import os\n"
   ]
  },
  {
   "cell_type": "code",
   "execution_count": 14,
   "metadata": {},
   "outputs": [],
   "source": [
    "def merge_tsv_files(folder_path, output_file):\n",
    "    \"\"\"\n",
    "    Merge multiple TSV files in a folder into one TSV file.\n",
    "\n",
    "    Args:\n",
    "    - folder_path: Path to the folder containing TSV files.\n",
    "    - output_file: Path to the output merged TSV file.\n",
    "    \"\"\"\n",
    "    # Check if the folder path exists\n",
    "    if not os.path.exists(folder_path):\n",
    "        print(\"Folder path does not exist.\")\n",
    "        return\n",
    "    \n",
    "    # Initialize an empty DataFrame to store merged data\n",
    "    merged_df = pd.DataFrame()\n",
    "\n",
    "    # Iterate over each file in the folder\n",
    "    for filename in os.listdir(folder_path):\n",
    "        # Check if the file is a TSV file\n",
    "        if filename.endswith(\".tsv\"):\n",
    "            file_path = os.path.join(folder_path, filename)\n",
    "            # Read the TSV file into a DataFrame\n",
    "            df = pd.read_csv(file_path, sep='\\t')\n",
    "            # Concatenate the DataFrame to the merged DataFrame\n",
    "            merged_df = pd.concat([merged_df, df], ignore_index=True)\n",
    "\n",
    "    # Write the merged DataFrame to a new TSV file\n",
    "    merged_df.to_csv(output_file, index=False)\n",
    "    print(\"Merged TSV file saved to:\", output_file)\n"
   ]
  },
  {
   "cell_type": "code",
   "execution_count": 15,
   "metadata": {},
   "outputs": [],
   "source": [
    "folder_path ='tsvFolder'\n",
    "output_file='tsvFolder/mergedTeamObsidian.csv'"
   ]
  },
  {
   "cell_type": "markdown",
   "metadata": {},
   "source": []
  },
  {
   "cell_type": "code",
   "execution_count": 16,
   "metadata": {},
   "outputs": [
    {
     "name": "stdout",
     "output_type": "stream",
     "text": [
      "Merged TSV file saved to: tsvFolder/mergedTeamObsidian.csv\n"
     ]
    }
   ],
   "source": [
    "merge_tsv_files(folder_path, output_file)"
   ]
  }
 ],
 "metadata": {
  "kernelspec": {
   "display_name": "Python 3",
   "language": "python",
   "name": "python3"
  },
  "language_info": {
   "codemirror_mode": {
    "name": "ipython",
    "version": 3
   },
   "file_extension": ".py",
   "mimetype": "text/x-python",
   "name": "python",
   "nbconvert_exporter": "python",
   "pygments_lexer": "ipython3",
   "version": "3.9.6"
  }
 },
 "nbformat": 4,
 "nbformat_minor": 2
}
